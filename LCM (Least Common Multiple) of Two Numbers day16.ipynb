{
 "cells": [
  {
   "cell_type": "code",
   "execution_count": 1,
   "id": "56e964ce",
   "metadata": {},
   "outputs": [
    {
     "name": "stdout",
     "output_type": "stream",
     "text": [
      "12\n",
      "10\n",
      "21\n",
      "987654321\n",
      "8117355456\n"
     ]
    }
   ],
   "source": [
    "import math\n",
    "\n",
    "def lcm(N, M):\n",
    "    \n",
    "    gcd_value = math.gcd(N, M)\n",
    "    \n",
    "    lcm_value = abs(N * M) // gcd_value\n",
    "    \n",
    "    return lcm_value\n",
    "\n",
    "# Test cases\n",
    "print(lcm(4, 6))         # Output: 12\n",
    "print(lcm(5, 10))        # Output: 10\n",
    "print(lcm(7, 3))         # Output: 21\n",
    "print(lcm(1, 987654321)) # Output: 987654321\n",
    "print(lcm(123456, 789012)) # Output: 8117355456\n"
   ]
  },
  {
   "cell_type": "code",
   "execution_count": null,
   "id": "b06f3c82",
   "metadata": {},
   "outputs": [],
   "source": []
  }
 ],
 "metadata": {
  "kernelspec": {
   "display_name": "Python 3 (ipykernel)",
   "language": "python",
   "name": "python3"
  },
  "language_info": {
   "codemirror_mode": {
    "name": "ipython",
    "version": 3
   },
   "file_extension": ".py",
   "mimetype": "text/x-python",
   "name": "python",
   "nbconvert_exporter": "python",
   "pygments_lexer": "ipython3",
   "version": "3.11.5"
  }
 },
 "nbformat": 4,
 "nbformat_minor": 5
}
