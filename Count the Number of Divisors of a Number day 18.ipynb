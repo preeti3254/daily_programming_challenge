{
 "cells": [
  {
   "cell_type": "code",
   "execution_count": 3,
   "id": "16797de1",
   "metadata": {},
   "outputs": [
    {
     "name": "stdout",
     "output_type": "stream",
     "text": [
      "The number of divisors of 18 is: 6\n",
      "The number of divisors of 29 is: 2\n",
      "The number of divisors of 100 is: 9\n",
      "The number of divisors of 1 is: 1\n",
      "The number of divisors of 997 is: 2\n"
     ]
    }
   ],
   "source": [
    "import math\n",
    "\n",
    "def count_divisors(N):\n",
    "    divisors_count= 0\n",
    "    sqrt_N= int(math.sqrt(N))\n",
    "    \n",
    "    for i in range(1, sqrt_N + 1):\n",
    "        if N % i== 0:\n",
    "            if i== N // i:\n",
    "                divisors_count+=1\n",
    "            else:\n",
    "                divisors_count+=2  \n",
    "\n",
    "    return divisors_count\n",
    "\n",
    "# Test cases\n",
    "test_cases = [18, 29, 100, 1, 997]\n",
    "\n",
    "for N in test_cases:\n",
    "    print(f\"The number of divisors of {N} is: {count_divisors(N)}\")\n"
   ]
  },
  {
   "cell_type": "code",
   "execution_count": null,
   "id": "4b781921",
   "metadata": {},
   "outputs": [],
   "source": []
  }
 ],
 "metadata": {
  "kernelspec": {
   "display_name": "Python 3 (ipykernel)",
   "language": "python",
   "name": "python3"
  },
  "language_info": {
   "codemirror_mode": {
    "name": "ipython",
    "version": 3
   },
   "file_extension": ".py",
   "mimetype": "text/x-python",
   "name": "python",
   "nbconvert_exporter": "python",
   "pygments_lexer": "ipython3",
   "version": "3.11.5"
  }
 },
 "nbformat": 4,
 "nbformat_minor": 5
}
