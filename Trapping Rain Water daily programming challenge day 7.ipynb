{
 "cells": [
  {
   "cell_type": "code",
   "execution_count": 4,
   "id": "42b545b3",
   "metadata": {},
   "outputs": [
    {
     "name": "stdout",
     "output_type": "stream",
     "text": [
      "Test case 1: 6\n",
      "Test case 2: 9\n",
      "Test case 3: 0\n",
      "Test case 4: 0\n",
      "Test case 5: 2\n"
     ]
    }
   ],
   "source": [
    "def trap(height):\n",
    "    left = 0\n",
    "    right=len(height) - 1\n",
    "    left_max=height[left]\n",
    "    right_max=height[right]\n",
    "    water=0\n",
    "\n",
    "    while left<right:\n",
    "        if left_max<right_max:\n",
    "            left+=1\n",
    "            left_max=max(left_max, height[left])\n",
    "            water+=left_max-height[left]\n",
    "        else:\n",
    "            right-=1\n",
    "            right_max=max(right_max, height[right])\n",
    "            water+=right_max-height[right]\n",
    "\n",
    "    return water\n",
    "\n",
    "height1 = [0, 1, 0, 2, 1, 0, 1, 3, 2, 1, 2, 1]\n",
    "print(\"Test case 1:\", trap(height1))  \n",
    "\n",
    "height2 = [4, 2, 0, 3, 2, 5]\n",
    "print(\"Test case 2:\", trap(height2))  \n",
    "\n",
    "height3 = [1, 1, 1]\n",
    "print(\"Test case 3:\", trap(height3))  \n",
    "\n",
    "height4 = [5]\n",
    "print(\"Test case 4:\", trap(height4))  \n",
    "\n",
    "height5 = [2, 0, 2]\n",
    "print(\"Test case 5:\", trap(height5))  \n"
   ]
  },
  {
   "cell_type": "code",
   "execution_count": null,
   "id": "92ff41e5",
   "metadata": {},
   "outputs": [],
   "source": []
  }
 ],
 "metadata": {
  "kernelspec": {
   "display_name": "Python 3 (ipykernel)",
   "language": "python",
   "name": "python3"
  },
  "language_info": {
   "codemirror_mode": {
    "name": "ipython",
    "version": 3
   },
   "file_extension": ".py",
   "mimetype": "text/x-python",
   "name": "python",
   "nbconvert_exporter": "python",
   "pygments_lexer": "ipython3",
   "version": "3.11.5"
  }
 },
 "nbformat": 4,
 "nbformat_minor": 5
}
