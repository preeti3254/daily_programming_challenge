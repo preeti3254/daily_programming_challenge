{
 "cells": [
  {
   "cell_type": "code",
   "execution_count": 4,
   "id": "972f77ab",
   "metadata": {},
   "outputs": [
    {
     "name": "stdout",
     "output_type": "stream",
     "text": [
      "blue is sky the\n",
      "world hello\n",
      "example good a\n",
      "\n",
      "word\n"
     ]
    }
   ],
   "source": [
    "def reverseWords(s):\n",
    "    length = len(s)\n",
    "    word_lists=[]  \n",
    "    i = 0\n",
    "    while i<length:\n",
    "        while i<length and s[i]==' ':\n",
    "            i+=1\n",
    "        if i==length:\n",
    "            break\n",
    "        \n",
    "        start=i  \n",
    "        \n",
    "        while i<length and s[i]!=' ':\n",
    "            i+=1\n",
    "        end=i-1  \n",
    "        \n",
    "        word_lists.append((start, end))\n",
    "    \n",
    "    result=[]\n",
    "    for start, end in reversed(word_lists):\n",
    "        word=s[start:end+1]\n",
    "        result.append(word)\n",
    "    \n",
    "    return ' '.join(result)\n",
    "\n",
    "print(reverseWords(\"the sky is blue\"))          \n",
    "print(reverseWords(\"  hello world  \"))          \n",
    "print(reverseWords(\"a good   example\"))         \n",
    "print(reverseWords(\"    \"))                     \n",
    "print(reverseWords(\"word\"))                     \n"
   ]
  },
  {
   "cell_type": "code",
   "execution_count": null,
   "id": "8a7b8136",
   "metadata": {},
   "outputs": [],
   "source": []
  }
 ],
 "metadata": {
  "kernelspec": {
   "display_name": "Python 3 (ipykernel)",
   "language": "python",
   "name": "python3"
  },
  "language_info": {
   "codemirror_mode": {
    "name": "ipython",
    "version": 3
   },
   "file_extension": ".py",
   "mimetype": "text/x-python",
   "name": "python",
   "nbconvert_exporter": "python",
   "pygments_lexer": "ipython3",
   "version": "3.11.5"
  }
 },
 "nbformat": 4,
 "nbformat_minor": 5
}
