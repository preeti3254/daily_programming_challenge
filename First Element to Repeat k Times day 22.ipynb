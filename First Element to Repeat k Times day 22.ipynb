{
 "cells": [
  {
   "cell_type": "code",
   "execution_count": 4,
   "id": "1940fceb",
   "metadata": {},
   "outputs": [
    {
     "name": "stdout",
     "output_type": "stream",
     "text": [
      "5\n",
      "-1\n",
      "10\n",
      "8\n"
     ]
    }
   ],
   "source": [
    "def first_element_k_times(arr, k):\n",
    "    # Dictionary to store frequency of elements\n",
    "    freq={}\n",
    "    \n",
    "    # First pass to count the frequency of each element\n",
    "    for num in arr:\n",
    "        if num in freq:\n",
    "            freq[num]+=1\n",
    "        else:\n",
    "            freq[num]=1\n",
    "    \n",
    "    # Second pass to find the first element with frequency exactly k\n",
    "    for num in arr:\n",
    "        if freq[num]==k:\n",
    "            return num\n",
    "    \n",
    "    # If no element is found with frequency k, return -1\n",
    "    return -1\n",
    "\n",
    "# Example test cases\n",
    "print(first_element_k_times([2, 3, 4, 2, 2, 5, 5], 2))        \n",
    "print(first_element_k_times([1, 1, 1, 1], 1))                 \n",
    "print(first_element_k_times([10], 1))                         \n",
    "print(first_element_k_times([6, 6, 6, 6, 7, 7, 8, 8, 8], 3))  \n"
   ]
  },
  {
   "cell_type": "code",
   "execution_count": null,
   "id": "1459017e",
   "metadata": {},
   "outputs": [],
   "source": []
  }
 ],
 "metadata": {
  "kernelspec": {
   "display_name": "Python 3 (ipykernel)",
   "language": "python",
   "name": "python3"
  },
  "language_info": {
   "codemirror_mode": {
    "name": "ipython",
    "version": 3
   },
   "file_extension": ".py",
   "mimetype": "text/x-python",
   "name": "python",
   "nbconvert_exporter": "python",
   "pygments_lexer": "ipython3",
   "version": "3.11.5"
  }
 },
 "nbformat": 4,
 "nbformat_minor": 5
}
