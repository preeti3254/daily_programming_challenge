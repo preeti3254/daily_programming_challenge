{
 "cells": [
  {
   "cell_type": "code",
   "execution_count": 2,
   "id": "cc01e74a",
   "metadata": {},
   "outputs": [
    {
     "name": "stdout",
     "output_type": "stream",
     "text": [
      "[2, 3, 5]\n",
      "[7, 7]\n",
      "[19]\n",
      "[2, 2, 2, 2, 2, 2]\n",
      "[2, 2, 2, 2, 2, 2, 3, 643]\n"
     ]
    }
   ],
   "source": [
    "import math\n",
    "\n",
    "def prime_factors(N):\n",
    "    factors=[]\n",
    "    \n",
    "    while N % 2==0:\n",
    "        factors.append(2)\n",
    "        N//= 2\n",
    "    \n",
    "    for i in range(3, int(math.sqrt(N)) + 1, 2):\n",
    "        while N% i==0:\n",
    "            factors.append(i)\n",
    "            N //= i\n",
    "    \n",
    "    if N>2:\n",
    "        factors.append(N)\n",
    "    \n",
    "    return factors\n",
    "\n",
    "# Test cases     \n",
    "print(prime_factors(30))     \n",
    "print(prime_factors(49))     \n",
    "print(prime_factors(19))     \n",
    "print(prime_factors(64))     \n",
    "print(prime_factors(123456)) \n"
   ]
  },
  {
   "cell_type": "code",
   "execution_count": null,
   "id": "45e9aa68",
   "metadata": {},
   "outputs": [],
   "source": []
  }
 ],
 "metadata": {
  "kernelspec": {
   "display_name": "Python 3 (ipykernel)",
   "language": "python",
   "name": "python3"
  },
  "language_info": {
   "codemirror_mode": {
    "name": "ipython",
    "version": 3
   },
   "file_extension": ".py",
   "mimetype": "text/x-python",
   "name": "python",
   "nbconvert_exporter": "python",
   "pygments_lexer": "ipython3",
   "version": "3.11.5"
  }
 },
 "nbformat": 4,
 "nbformat_minor": 5
}
