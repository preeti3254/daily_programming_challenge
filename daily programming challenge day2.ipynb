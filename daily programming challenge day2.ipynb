{
 "cells": [
  {
   "cell_type": "code",
   "execution_count": 2,
   "id": "d03ec5f3",
   "metadata": {},
   "outputs": [
    {
     "name": "stdout",
     "output_type": "stream",
     "text": [
      "Test Case 1 - Input: [1, 2, 4, 5], Missing Number: -2\n",
      "Test Case 2 - Input: [2, 3, 4, 5], Missing Number: -4\n",
      "Test Case 3 - Input: [1, 2, 3, 4], Missing Number: 0\n",
      "Test Case 4 - Input: [1], Missing Number: 0\n"
     ]
    }
   ],
   "source": [
    "from typing import List\n",
    "\n",
    "class Solution:\n",
    "    def missingNumber(self, nums: List[int]) -> int:\n",
    "        n = len(nums)\n",
    "        total_sum = n * (n + 1) // 2  \n",
    "        actual_sum = sum(nums)        \n",
    "        return total_sum - actual_sum \n",
    "\n",
    "\n",
    "sol = Solution()\n",
    "\n",
    "# Test cases\n",
    "test_cases = [\n",
    "    [1, 2, 4, 5],   \n",
    "    [2, 3, 4, 5],   \n",
    "    [1, 2, 3, 4],   \n",
    "    [1]             \n",
    "]\n",
    "\n",
    "\n",
    "for i, nums in enumerate(test_cases, 1):\n",
    "    result = sol.missingNumber(nums)\n",
    "    print(f\"Test Case {i} - Input: {nums}, Missing Number: {result}\")\n"
   ]
  },
  {
   "cell_type": "code",
   "execution_count": null,
   "id": "a9c2015f",
   "metadata": {},
   "outputs": [],
   "source": []
  }
 ],
 "metadata": {
  "kernelspec": {
   "display_name": "Python 3 (ipykernel)",
   "language": "python",
   "name": "python3"
  },
  "language_info": {
   "codemirror_mode": {
    "name": "ipython",
    "version": 3
   },
   "file_extension": ".py",
   "mimetype": "text/x-python",
   "name": "python",
   "nbconvert_exporter": "python",
   "pygments_lexer": "ipython3",
   "version": "3.11.5"
  }
 },
 "nbformat": 4,
 "nbformat_minor": 5
}
