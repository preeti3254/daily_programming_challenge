{
 "cells": [
  {
   "cell_type": "code",
   "execution_count": 8,
   "id": "efaf9fbb",
   "metadata": {},
   "outputs": [
    {
     "name": "stdout",
     "output_type": "stream",
     "text": [
      "Original Stack for Test Case 1: [7, 1, 5]\n",
      "Sorted Stack (Ascending) for Test Case 1: [1, 5, 7]\n",
      "\n",
      "Original Stack for Test Case 2: [5]\n",
      "Sorted Stack (Ascending) for Test Case 2: [5]\n",
      "\n",
      "Original Stack for Test Case 3: [-3, 14, 8, 2]\n",
      "Sorted Stack (Ascending) for Test Case 3: [-3, 2, 8, 14]\n",
      "\n",
      "Original Stack for Test Case 4: []\n",
      "Sorted Stack (Ascending) for Test Case 4: []\n",
      "\n",
      "Original Stack for Test Case 5: [3, 3, 3]\n",
      "Sorted Stack (Ascending) for Test Case 5: [3, 3, 3]\n",
      "\n"
     ]
    }
   ],
   "source": [
    "def sortedInsert(stack, element):\n",
    "    if not stack or stack[-1] <= element:  \n",
    "        stack.append(element)\n",
    "    else:\n",
    "        temp = stack.pop()\n",
    "        sortedInsert(stack, element)\n",
    "        stack.append(temp)\n",
    "\n",
    "def sortStack(stack):\n",
    "    if stack:\n",
    "        temp = stack.pop()\n",
    "        sortStack(stack)\n",
    "        sortedInsert(stack, temp)\n",
    "\n",
    "def printStack(stack):\n",
    "    return stack[:]  \n",
    "\n",
    "def runTestCases():\n",
    "    test_cases = [\n",
    "        [7, 1, 5],          \n",
    "        [5],                \n",
    "        [-3, 14, 8, 2],     \n",
    "        [],                 \n",
    "        [3, 3, 3],          \n",
    "    ]\n",
    "\n",
    "    for i, stack in enumerate(test_cases):\n",
    "        print(f\"Original Stack for Test Case {i + 1}: {stack}\")\n",
    "        sortStack(stack)\n",
    "        print(f\"Sorted Stack (Ascending) for Test Case {i + 1}: {printStack(stack)}\\n\")\n",
    "\n",
    "# Run all the test cases\n",
    "runTestCases()\n"
   ]
  },
  {
   "cell_type": "code",
   "execution_count": null,
   "id": "0e10a062",
   "metadata": {},
   "outputs": [],
   "source": []
  }
 ],
 "metadata": {
  "kernelspec": {
   "display_name": "Python 3 (ipykernel)",
   "language": "python",
   "name": "python3"
  },
  "language_info": {
   "codemirror_mode": {
    "name": "ipython",
    "version": 3
   },
   "file_extension": ".py",
   "mimetype": "text/x-python",
   "name": "python",
   "nbconvert_exporter": "python",
   "pygments_lexer": "ipython3",
   "version": "3.11.5"
  }
 },
 "nbformat": 4,
 "nbformat_minor": 5
}
