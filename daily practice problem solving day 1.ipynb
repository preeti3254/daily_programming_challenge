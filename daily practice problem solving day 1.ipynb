{
 "cells": [
  {
   "cell_type": "code",
   "execution_count": 9,
   "id": "753631bb",
   "metadata": {},
   "outputs": [
    {
     "name": "stdout",
     "output_type": "stream",
     "text": [
      "Testcase 1:   [0, 0, 0, 1, 1, 1, 2, 2] \n",
      "Testcase 2:   [2, 2, 2, 2] \n",
      "Testcase 3:   [0, 0, 0, 0] \n",
      "Testcase 4:   [1, 1, 1, 1] \n",
      "Testcase 5:   [] \n"
     ]
    }
   ],
   "source": [
    "def sort_array (array):\n",
    "    a0 = a1 = a2 = 0\n",
    "    for i in array:\n",
    "        if i == 0:\n",
    "            a0 += 1\n",
    "        elif i == 1:\n",
    "            a1 += 1\n",
    "        elif i==2:\n",
    "            a2 += 1\n",
    "\n",
    "    for j in range(a0+a1+a2):\n",
    "        if j < a0 :\n",
    "            array[j] = 0\n",
    "        elif j > a0 and j < a0 + a1 :\n",
    "            array[j] = 1\n",
    "        elif j >= a0 + a1:\n",
    "            array[j] = 2\n",
    "array = [0, 1, 2, 1, 0, 2, 1, 0]\n",
    "sort_array(array)\n",
    "print(f\"Testcase 1:   {array} \")\n",
    "\n",
    "array = [2, 2, 2, 2]\n",
    "sort_array(array)\n",
    "print(f\"Testcase 2:   {array} \")\n",
    "\n",
    "array = [0, 0, 0, 0]\n",
    "sort_array(array)\n",
    "print(f\"Testcase 3:   {array} \")\n",
    "\n",
    "array =  [1, 1, 1, 1]\n",
    "sort_array(array)\n",
    "print(f\"Testcase 4:   {array} \")\n",
    "\n",
    "array = []\n",
    "sort_array(array)\n",
    "print(f\"Testcase 5:   {array} \")"
   ]
  },
  {
   "cell_type": "code",
   "execution_count": 10,
   "id": "fa4aec04",
   "metadata": {},
   "outputs": [
    {
     "name": "stdout",
     "output_type": "stream",
     "text": [
      "the sorting of array containing elements 0,1,2 only\n"
     ]
    }
   ],
   "source": [
    "print (\"the sorting of array containing elements 0,1,2 only\")\n"
   ]
  },
  {
   "cell_type": "code",
   "execution_count": null,
   "id": "bec695d8",
   "metadata": {},
   "outputs": [],
   "source": []
  }
 ],
 "metadata": {
  "kernelspec": {
   "display_name": "Python 3 (ipykernel)",
   "language": "python",
   "name": "python3"
  },
  "language_info": {
   "codemirror_mode": {
    "name": "ipython",
    "version": 3
   },
   "file_extension": ".py",
   "mimetype": "text/x-python",
   "name": "python",
   "nbconvert_exporter": "python",
   "pygments_lexer": "ipython3",
   "version": "3.11.5"
  }
 },
 "nbformat": 4,
 "nbformat_minor": 5
}
