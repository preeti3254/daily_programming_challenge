{
 "cells": [
  {
   "cell_type": "code",
   "execution_count": 9,
   "id": "81d0e0e2",
   "metadata": {},
   "outputs": [
    {
     "name": "stdout",
     "output_type": "stream",
     "text": [
      "the test cases are \n",
      "()\n",
      "True\n",
      "([)]\n",
      "False\n",
      "[{()}]\n",
      "True\n",
      "\n",
      "True\n",
      "{[}\n",
      "False\n"
     ]
    }
   ],
   "source": [
    "def pratham(s):\n",
    "    \n",
    "    k=[]\n",
    "    for i in range(0,len(s)):\n",
    "\n",
    "\n",
    "\n",
    "        if s[i]==\"(\" or s[i]==\"[\"or s[i]==\"{\":\n",
    "            k.append(s[i])\n",
    "        elif s[i]==\")\" or s[i]==\"]\"or s[i]==\"}\":\n",
    "            if not k:\n",
    "                return False\n",
    "            a=k.pop()\n",
    "            if a==\"[\" and s[i]!=\"]\":\n",
    "                return False\n",
    "            if a==\"{\" and s[i]!=\"}\":\n",
    "                return False\n",
    "            if a==\"(\" and s[i]!=\")\":\n",
    "                return False\n",
    "\n",
    "    if k==[]:\n",
    "        return True\n",
    "print(\"the test cases are \")\n",
    "\n",
    "\n",
    "#test case 1\n",
    "s=\"()\"\n",
    "print(s)\n",
    "print(pratham(s))\n",
    "#test case 2\n",
    "lists=[]\n",
    "s= \"([)]\"\n",
    "print(s)\n",
    "print(pratham(s))\n",
    "#test case 3\n",
    "lists=[]\n",
    "s= \"[{()}]\"\n",
    "print(s)\n",
    "print(pratham(s))\n",
    "#test case 4\n",
    "lists=[]\n",
    "s= \"\"\n",
    "print(s)\n",
    "print(pratham(s))\n",
    "#test case 5\n",
    "lists=[]\n",
    "s = \"{[}\"\n",
    "print(s)\n",
    "print(pratham(s))\n",
    "            \n",
    "        \n"
   ]
  },
  {
   "cell_type": "code",
   "execution_count": null,
   "id": "55acc331",
   "metadata": {},
   "outputs": [],
   "source": []
  }
 ],
 "metadata": {
  "kernelspec": {
   "display_name": "Python 3 (ipykernel)",
   "language": "python",
   "name": "python3"
  },
  "language_info": {
   "codemirror_mode": {
    "name": "ipython",
    "version": 3
   },
   "file_extension": ".py",
   "mimetype": "text/x-python",
   "name": "python",
   "nbconvert_exporter": "python",
   "pygments_lexer": "ipython3",
   "version": "3.11.5"
  }
 },
 "nbformat": 4,
 "nbformat_minor": 5
}
