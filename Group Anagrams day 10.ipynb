{
 "cells": [
  {
   "cell_type": "code",
   "execution_count": 2,
   "id": "b188445f",
   "metadata": {},
   "outputs": [
    {
     "name": "stdout",
     "output_type": "stream",
     "text": [
      "[['eat', 'tea', 'ate'], ['tan', 'nat'], ['bat']]\n",
      "[['']]\n",
      "[['a']]\n",
      "[['abc', 'bca', 'cab'], ['xyz', 'zyx', 'yxz']]\n",
      "[['abc'], ['def'], ['ghi']]\n"
     ]
    }
   ],
   "source": [
    "def groupAnagrams(strs):\n",
    "    map = {}\n",
    "\n",
    "    for s in strs:\n",
    "        key=[0] * 26\n",
    "\n",
    "        for c in s:\n",
    "            key[ord(c)-ord('a')]+=1\n",
    "\n",
    "        keytuple=tuple(key)\n",
    "\n",
    "        if keytuple in map:\n",
    "            map[keytuple].append(s)\n",
    "        else:\n",
    "            map[keytuple]=[s]\n",
    "\n",
    "    return list(map.values())\n",
    "\n",
    "strs=[\"eat\", \"tea\", \"tan\", \"ate\", \"nat\", \"bat\"]\n",
    "print(groupAnagrams(strs))  \n",
    "\n",
    "strs=[\"\"]\n",
    "print(groupAnagrams(strs))  \n",
    "\n",
    "strs=[\"a\"]\n",
    "print(groupAnagrams(strs))  \n",
    "\n",
    "strs=[\"abc\", \"bca\", \"cab\", \"xyz\", \"zyx\", \"yxz\"]\n",
    "print(groupAnagrams(strs))  \n",
    "\n",
    "strs=[\"abc\", \"def\", \"ghi\"]\n",
    "print(groupAnagrams(strs))  \n"
   ]
  },
  {
   "cell_type": "code",
   "execution_count": null,
   "id": "4868c55f",
   "metadata": {},
   "outputs": [],
   "source": []
  }
 ],
 "metadata": {
  "kernelspec": {
   "display_name": "Python 3 (ipykernel)",
   "language": "python",
   "name": "python3"
  },
  "language_info": {
   "codemirror_mode": {
    "name": "ipython",
    "version": 3
   },
   "file_extension": ".py",
   "mimetype": "text/x-python",
   "name": "python",
   "nbconvert_exporter": "python",
   "pygments_lexer": "ipython3",
   "version": "3.11.5"
  }
 },
 "nbformat": 4,
 "nbformat_minor": 5
}
