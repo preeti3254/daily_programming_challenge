{
 "cells": [
  {
   "cell_type": "code",
   "execution_count": 1,
   "id": "69b3ff23",
   "metadata": {},
   "outputs": [
    {
     "name": "stdout",
     "output_type": "stream",
     "text": [
      "bab\n",
      "bb\n",
      "a\n",
      "aaaa\n",
      "a\n"
     ]
    }
   ],
   "source": [
    "def longestPalindrome(s: str) -> str:\n",
    "    if len(s)<=1:\n",
    "        return s\n",
    "    \n",
    "    Max_Len=1\n",
    "    Max_Str=s[0]\n",
    "    for i in range(len(s)-1):\n",
    "        for j in range(i + 1, len(s)):\n",
    "            if j-i+1>Max_Len and s[i:j + 1]==s[i:j+1][::-1]:\n",
    "                Max_Len = j - i + 1\n",
    "                Max_Str = s[i:j + 1]\n",
    "\n",
    "    return Max_Str\n",
    "\n",
    "\n",
    "# Test cases\n",
    "print(longestPalindrome(\"babad\"))  \n",
    "print(longestPalindrome(\"cbbd\"))   \n",
    "print(longestPalindrome(\"a\"))      \n",
    "print(longestPalindrome(\"aaaa\"))   \n",
    "print(longestPalindrome(\"abc\"))    \n"
   ]
  },
  {
   "cell_type": "code",
   "execution_count": null,
   "id": "ac087c46",
   "metadata": {},
   "outputs": [],
   "source": []
  }
 ],
 "metadata": {
  "kernelspec": {
   "display_name": "Python 3 (ipykernel)",
   "language": "python",
   "name": "python3"
  },
  "language_info": {
   "codemirror_mode": {
    "name": "ipython",
    "version": 3
   },
   "file_extension": ".py",
   "mimetype": "text/x-python",
   "name": "python",
   "nbconvert_exporter": "python",
   "pygments_lexer": "ipython3",
   "version": "3.11.5"
  }
 },
 "nbformat": 4,
 "nbformat_minor": 5
}
