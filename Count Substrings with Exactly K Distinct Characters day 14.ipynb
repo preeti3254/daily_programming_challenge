{
 "cells": [
  {
   "cell_type": "code",
   "execution_count": 1,
   "id": "b59e49bc",
   "metadata": {},
   "outputs": [
    {
     "name": "stdout",
     "output_type": "stream",
     "text": [
      "7\n",
      "12\n",
      "1\n",
      "1\n",
      "2\n"
     ]
    }
   ],
   "source": [
    "from collections import defaultdict\n",
    "\n",
    "def count_at_most_k_distinct(s, k):\n",
    "    char_count=defaultdict(int)\n",
    "    left=0\n",
    "    result=0\n",
    "    distinct_count=0\n",
    "\n",
    "    for right in range(len(s)):\n",
    "        if char_count[s[right]]==0:\n",
    "            distinct_count+=1\n",
    "        char_count[s[right]]+=1\n",
    "\n",
    "        while distinct_count > k:\n",
    "            char_count[s[left]] -= 1\n",
    "            if char_count[s[left]] == 0:\n",
    "                distinct_count -= 1\n",
    "            left += 1\n",
    "\n",
    "        result += right - left + 1\n",
    "\n",
    "    return result\n",
    "\n",
    "def count_exactly_k_distinct(s, k):\n",
    "    return count_at_most_k_distinct(s, k) - count_at_most_k_distinct(s, k - 1)\n",
    "\n",
    "# Test cases\n",
    "\n",
    "# Test Case 1\n",
    "s1 = \"pqpqs\"\n",
    "k1 = 2\n",
    "print(count_exactly_k_distinct(s1, k1))  # Output: 7\n",
    "\n",
    "# Test Case 2\n",
    "s2 = \"aabacbebebe\"\n",
    "k2 = 3\n",
    "print(count_exactly_k_distinct(s2, k2))  \n",
    "\n",
    "# Test Case 3\n",
    "s3 = \"a\"\n",
    "k3 = 1\n",
    "print(count_exactly_k_distinct(s3, k3))  \n",
    "\n",
    "# Test Case 4\n",
    "s4 = \"abc\"\n",
    "k4 = 3\n",
    "print(count_exactly_k_distinct(s4, k4))  \n",
    "\n",
    "# Test Case 5\n",
    "s5 = \"abc\"\n",
    "k5 = 2\n",
    "print(count_exactly_k_distinct(s5, k5))  \n"
   ]
  },
  {
   "cell_type": "code",
   "execution_count": null,
   "id": "f36d0d03",
   "metadata": {},
   "outputs": [],
   "source": []
  }
 ],
 "metadata": {
  "kernelspec": {
   "display_name": "Python 3 (ipykernel)",
   "language": "python",
   "name": "python3"
  },
  "language_info": {
   "codemirror_mode": {
    "name": "ipython",
    "version": 3
   },
   "file_extension": ".py",
   "mimetype": "text/x-python",
   "name": "python",
   "nbconvert_exporter": "python",
   "pygments_lexer": "ipython3",
   "version": "3.11.5"
  }
 },
 "nbformat": 4,
 "nbformat_minor": 5
}
