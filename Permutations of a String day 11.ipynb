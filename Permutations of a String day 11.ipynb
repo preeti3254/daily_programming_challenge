{
 "cells": [
  {
   "cell_type": "code",
   "execution_count": 2,
   "id": "efffc8b0",
   "metadata": {},
   "outputs": [
    {
     "name": "stdout",
     "output_type": "stream",
     "text": [
      "['abc', 'acb', 'bac', 'bca', 'cab', 'cba']\n",
      "['aab', 'aba', 'baa']\n",
      "['aaa']\n",
      "['a']\n",
      "['abcd', 'abdc', 'acbd', 'acdb', 'adbc', 'adcb', 'bacd', 'badc', 'bcad', 'bcda', 'bdac', 'bdca', 'cabd', 'cadb', 'cbad', 'cbda', 'cdab', 'cdba', 'dabc', 'dacb', 'dbac', 'dbca', 'dcab', 'dcba']\n"
     ]
    }
   ],
   "source": [
    "from itertools import permutations\n",
    "\n",
    "def unique_permutations(s: str):\n",
    "    perms = permutations(s)\n",
    "    \n",
    "    unique_perms = sorted(set([''.join(p) for p in perms]))\n",
    "    \n",
    "    return unique_perms\n",
    "\n",
    "print(unique_permutations(\"abc\"))  \n",
    "print(unique_permutations(\"aab\"))  \n",
    "print(unique_permutations(\"aaa\"))  \n",
    "print(unique_permutations(\"a\"))    \n",
    "print(unique_permutations(\"abcd\")) \n"
   ]
  },
  {
   "cell_type": "code",
   "execution_count": null,
   "id": "f39f265d",
   "metadata": {},
   "outputs": [],
   "source": []
  }
 ],
 "metadata": {
  "kernelspec": {
   "display_name": "Python 3 (ipykernel)",
   "language": "python",
   "name": "python3"
  },
  "language_info": {
   "codemirror_mode": {
    "name": "ipython",
    "version": 3
   },
   "file_extension": ".py",
   "mimetype": "text/x-python",
   "name": "python",
   "nbconvert_exporter": "python",
   "pygments_lexer": "ipython3",
   "version": "3.11.5"
  }
 },
 "nbformat": 4,
 "nbformat_minor": 5
}
