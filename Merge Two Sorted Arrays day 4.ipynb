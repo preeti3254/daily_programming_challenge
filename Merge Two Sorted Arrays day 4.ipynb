{
 "cells": [
  {
   "cell_type": "code",
   "execution_count": 3,
   "id": "2fd09101",
   "metadata": {},
   "outputs": [
    {
     "name": "stdout",
     "output_type": "stream",
     "text": [
      "arr1: [1, 2, 3], arr2: [4, 5, 6]\n",
      "arr1: [1, 3, 5], arr2: [10, 12, 14]\n",
      "arr1: [2, 3, 4], arr2: [6, 8, 10]\n",
      "arr1: [1], arr2: [2]\n",
      "arr1: [1, 2, 3, 4, 5, 6], arr2: [75001, 75001, 75002, 75002, 75003, 75003]\n"
     ]
    }
   ],
   "source": [
    "import math\n",
    "\n",
    "def merge(arr1, arr2):\n",
    "    m=len(arr1)\n",
    "    n=len(arr2)\n",
    "\n",
    "    def next_gap(gap):\n",
    "        if gap<=1:\n",
    "            return 0\n",
    "        return math.ceil(gap/2)\n",
    "\n",
    "    gap=m+n\n",
    "    gap=next_gap(gap)\n",
    "\n",
    "    while gap>0:\n",
    "        i=0\n",
    "        while i+gap<m:\n",
    "            if arr1[i]>arr1[i+gap]:\n",
    "                arr1[i], arr1[i+gap]=arr1[i+gap], arr1[i]\n",
    "            i+=1\n",
    "\n",
    "        \n",
    "        j=gap-m if gap>m else 0\n",
    "        while i<m and j<n:\n",
    "            if arr1[i]>arr2[j]:\n",
    "                arr1[i], arr2[j] = arr2[j], arr1[i]\n",
    "            i+=1\n",
    "            j+=1\n",
    "\n",
    "        if j<n:\n",
    "            j=0\n",
    "            while j+gap<n:\n",
    "                if arr2[j]>arr2[j+gap]:\n",
    "                    arr2[j], arr2[j+gap] = arr2[j + gap], arr2[j]\n",
    "                j += 1\n",
    "\n",
    "        gap=next_gap(gap)\n",
    "\n",
    "arr1=[1, 3, 5]\n",
    "arr2=[2, 4, 6]\n",
    "merge(arr1, arr2)\n",
    "print(f\"arr1: {arr1}, arr2: {arr2}\")  \n",
    "\n",
    "arr1=[10, 12, 14]\n",
    "arr2=[1, 3, 5]\n",
    "merge(arr1, arr2)\n",
    "print(f\"arr1: {arr1}, arr2: {arr2}\")  \n",
    "\n",
    "arr1=[2, 3, 8]\n",
    "arr2=[4, 6, 10]\n",
    "merge(arr1, arr2)\n",
    "print(f\"arr1: {arr1}, arr2: {arr2}\")  \n",
    "\n",
    "arr1=[1]\n",
    "arr2=[2]\n",
    "merge(arr1, arr2)\n",
    "print(f\"arr1: {arr1}, arr2: {arr2}\")  \n",
    "\n",
    "arr1=list(range(1, 100001))\n",
    "arr2=list(range(50001, 100001))\n",
    "merge(arr1, arr2)\n",
    "print(f\"arr1: {arr1[:6]}, arr2: {arr2[:6]}\")  \n"
   ]
  },
  {
   "cell_type": "code",
   "execution_count": null,
   "id": "d448b1c8",
   "metadata": {},
   "outputs": [],
   "source": []
  }
 ],
 "metadata": {
  "kernelspec": {
   "display_name": "Python 3 (ipykernel)",
   "language": "python",
   "name": "python3"
  },
  "language_info": {
   "codemirror_mode": {
    "name": "ipython",
    "version": 3
   },
   "file_extension": ".py",
   "mimetype": "text/x-python",
   "name": "python",
   "nbconvert_exporter": "python",
   "pygments_lexer": "ipython3",
   "version": "3.11.5"
  }
 },
 "nbformat": 4,
 "nbformat_minor": 5
}
