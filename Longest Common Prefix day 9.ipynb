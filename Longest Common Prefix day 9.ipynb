{
 "cells": [
  {
   "cell_type": "code",
   "execution_count": 5,
   "id": "281a1078",
   "metadata": {},
   "outputs": [
    {
     "name": "stdout",
     "output_type": "stream",
     "text": [
      "Test case 1 Output: 'fl'\n",
      "Test case 2 Output: ''\n",
      "Test case 3 Output: 'ap'\n",
      "Test case 4 Output: ''\n",
      "Test case 5 Output: 'alone'\n"
     ]
    }
   ],
   "source": [
    "def longestCommonPrefix(v):\n",
    "    ans=\"\"\n",
    "    if not v:  \n",
    "        return ans\n",
    "    v=sorted(v)\n",
    "    first=v[0]\n",
    "    last=v[-1]\n",
    "    for i in range(min(len(first), len(last))):\n",
    "        if first[i]!=last[i]:\n",
    "            return ans\n",
    "        ans+=first[i]\n",
    "    return ans\n",
    "\n",
    "strs1=[\"flower\", \"flow\", \"flight\"]\n",
    "print(f\"Test case 1 Output: '{longestCommonPrefix(strs1)}'\")\n",
    "\n",
    "strs2=[\"dog\", \"racecar\", \"car\"]\n",
    "print(f\"Test case 2 Output: '{longestCommonPrefix(strs2)}'\")\n",
    "\n",
    "strs3=[\"apple\", \"ape\", \"april\"]\n",
    "print(f\"Test case 3 Output: '{longestCommonPrefix(strs3)}'\")\n",
    "\n",
    "strs4=[\"\"]\n",
    "print(f\"Test case 4 Output: '{longestCommonPrefix(strs4)}'\")\n",
    "\n",
    "strs5=[\"alone\"]\n",
    "print(f\"Test case 5 Output: '{longestCommonPrefix(strs5)}'\")\n"
   ]
  },
  {
   "cell_type": "code",
   "execution_count": null,
   "id": "d1a780e6",
   "metadata": {},
   "outputs": [],
   "source": []
  }
 ],
 "metadata": {
  "kernelspec": {
   "display_name": "Python 3 (ipykernel)",
   "language": "python",
   "name": "python3"
  },
  "language_info": {
   "codemirror_mode": {
    "name": "ipython",
    "version": 3
   },
   "file_extension": ".py",
   "mimetype": "text/x-python",
   "name": "python",
   "nbconvert_exporter": "python",
   "pygments_lexer": "ipython3",
   "version": "3.11.5"
  }
 },
 "nbformat": 4,
 "nbformat_minor": 5
}
