{
 "cells": [
  {
   "cell_type": "code",
   "execution_count": 3,
   "id": "5780ac2a",
   "metadata": {},
   "outputs": [
    {
     "name": "stdout",
     "output_type": "stream",
     "text": [
      "Test Case 1 - Original Stack: [3, 2, 1]\n",
      "Test Case 1 - Reversed Stack: [1, 2, 3]\n",
      "\n",
      "Test Case 2 - Original Stack: [5]\n",
      "Test Case 2 - Reversed Stack: [5]\n",
      "\n",
      "Test Case 3 - Original Stack: [-5, -10, -15]\n",
      "Test Case 3 - Reversed Stack: [-15, -10, -5]\n",
      "\n",
      "Test Case 4 - Original Stack: []\n",
      "Test Case 4 - Reversed Stack: []\n",
      "\n",
      "Test Case 5 - Original Stack: [3, 3, 3]\n",
      "Test Case 5 - Reversed Stack: [3, 3, 3]\n",
      "\n"
     ]
    }
   ],
   "source": [
    "class Stack:\n",
    "    def __init__(self):\n",
    "        self.items=[]\n",
    "\n",
    "    def push(self,item):\n",
    "        self.items.append(item)\n",
    "\n",
    "    def pop(self):\n",
    "        if not self.is_empty():\n",
    "            return self.items.pop()\n",
    "        return None\n",
    "\n",
    "    def peek(self):\n",
    "        if not self.is_empty():\n",
    "            return self.items[-1]\n",
    "        return None\n",
    "\n",
    "    def is_empty(self):\n",
    "        return len(self.items) == 0\n",
    "\n",
    "    def reverse(self):\n",
    "        if self.is_empty():\n",
    "            return\n",
    "        \n",
    "        top=self.pop()\n",
    "        \n",
    "        self.reverse()\n",
    "        \n",
    "        self._insert_at_bottom(top)\n",
    "\n",
    "    def _insert_at_bottom(self, item):\n",
    "        if self.is_empty():\n",
    "            self.push(item)\n",
    "        else:\n",
    "            \n",
    "            temp=self.pop()\n",
    "            \n",
    "            self._insert_at_bottom(item)\n",
    "            \n",
    "            self.push(temp)\n",
    "\n",
    "    def __str__(self):\n",
    "        return str(self.items)\n",
    "\n",
    "\n",
    "test_case_1=[3, 2, 1]\n",
    "test_case_2=[5]\n",
    "test_case_3=[-5, -10, -15]\n",
    "test_case_4=[]\n",
    "test_case_5=[3, 3, 3]\n",
    "\n",
    "test_cases = [test_case_1, test_case_2, test_case_3, test_case_4, test_case_5]\n",
    "\n",
    "for index, case in enumerate(test_cases, start=1):\n",
    "    stack = Stack()\n",
    "    for item in case:\n",
    "        stack.push(item)\n",
    "    \n",
    "    \n",
    "    print(f\"Test Case {index} - Original Stack: {stack}\")\n",
    "    \n",
    "    stack.reverse()\n",
    "    \n",
    "    print(f\"Test Case {index} - Reversed Stack: {stack}\\n\")\n"
   ]
  },
  {
   "cell_type": "code",
   "execution_count": null,
   "id": "66db0d5c",
   "metadata": {},
   "outputs": [],
   "source": []
  }
 ],
 "metadata": {
  "kernelspec": {
   "display_name": "Python 3 (ipykernel)",
   "language": "python",
   "name": "python3"
  },
  "language_info": {
   "codemirror_mode": {
    "name": "ipython",
    "version": 3
   },
   "file_extension": ".py",
   "mimetype": "text/x-python",
   "name": "python",
   "nbconvert_exporter": "python",
   "pygments_lexer": "ipython3",
   "version": "3.11.5"
  }
 },
 "nbformat": 4,
 "nbformat_minor": 5
}
