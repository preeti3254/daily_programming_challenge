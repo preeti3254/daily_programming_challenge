{
 "cells": [
  {
   "cell_type": "code",
   "execution_count": 5,
   "id": "bf363c88",
   "metadata": {},
   "outputs": [
    {
     "name": "stdout",
     "output_type": "stream",
     "text": [
      "11\n",
      "1\n",
      "-11\n",
      "5\n",
      "5\n"
     ]
    }
   ],
   "source": [
    "def evaluate_postfix(expression: str) -> int:\n",
    "    stack=[]\n",
    "    \n",
    "    tokens=expression.split()\n",
    "    \n",
    "    for token in tokens:\n",
    "        if token.isdigit() or (token[0]=='-' and token[1:].isdigit()):  \n",
    "            stack.append(int(token))\n",
    "        else:\n",
    "            b=stack.pop()\n",
    "            a=stack.pop()\n",
    "            \n",
    "            if token=='+':\n",
    "                stack.append(a + b)\n",
    "            elif token=='-':\n",
    "                stack.append(a - b)\n",
    "            elif token=='*':\n",
    "                stack.append(a * b)\n",
    "            elif token=='/':\n",
    "                stack.append(int(a / b))  # Integer division, truncating toward zero\n",
    "            elif token=='^':  # Handle XOR operator\n",
    "                stack.append(a ^ b)\n",
    "    \n",
    "    return stack.pop()\n",
    "\n",
    "# Test cases             \n",
    "print(evaluate_postfix(\"5 6 +\"))                 \n",
    "print(evaluate_postfix(\"3 4 2 * 1 5 - 2 3 ^ ^ / +\"))  \n",
    "print(evaluate_postfix(\"-5 6 -\"))               \n",
    "print(evaluate_postfix(\"15 7 1 1 + - / 3 * 2 1 1 + + -\"))  \n",
    "print(evaluate_postfix(\"5\"))                    \n"
   ]
  },
  {
   "cell_type": "code",
   "execution_count": null,
   "id": "99dcf134",
   "metadata": {},
   "outputs": [],
   "source": []
  }
 ],
 "metadata": {
  "kernelspec": {
   "display_name": "Python 3 (ipykernel)",
   "language": "python",
   "name": "python3"
  },
  "language_info": {
   "codemirror_mode": {
    "name": "ipython",
    "version": 3
   },
   "file_extension": ".py",
   "mimetype": "text/x-python",
   "name": "python",
   "nbconvert_exporter": "python",
   "pygments_lexer": "ipython3",
   "version": "3.11.5"
  }
 },
 "nbformat": 4,
 "nbformat_minor": 5
}
